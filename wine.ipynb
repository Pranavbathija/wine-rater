{
 "cells": [
  {
   "cell_type": "code",
   "execution_count": 1,
   "metadata": {},
   "outputs": [
    {
     "data": {
      "text/html": [
       "<div>\n",
       "<style scoped>\n",
       "    .dataframe tbody tr th:only-of-type {\n",
       "        vertical-align: middle;\n",
       "    }\n",
       "\n",
       "    .dataframe tbody tr th {\n",
       "        vertical-align: top;\n",
       "    }\n",
       "\n",
       "    .dataframe thead th {\n",
       "        text-align: right;\n",
       "    }\n",
       "</style>\n",
       "<table border=\"1\" class=\"dataframe\">\n",
       "  <thead>\n",
       "    <tr style=\"text-align: right;\">\n",
       "      <th></th>\n",
       "      <th>Unnamed: 0</th>\n",
       "      <th>country</th>\n",
       "      <th>description</th>\n",
       "      <th>designation</th>\n",
       "      <th>points</th>\n",
       "      <th>price</th>\n",
       "      <th>province</th>\n",
       "      <th>region_1</th>\n",
       "      <th>region_2</th>\n",
       "      <th>variety</th>\n",
       "      <th>winery</th>\n",
       "    </tr>\n",
       "  </thead>\n",
       "  <tbody>\n",
       "    <tr>\n",
       "      <td>0</td>\n",
       "      <td>0</td>\n",
       "      <td>US</td>\n",
       "      <td>This tremendous 100% varietal wine hails from ...</td>\n",
       "      <td>Martha's Vineyard</td>\n",
       "      <td>96</td>\n",
       "      <td>235.0</td>\n",
       "      <td>California</td>\n",
       "      <td>Napa Valley</td>\n",
       "      <td>Napa</td>\n",
       "      <td>Cabernet Sauvignon</td>\n",
       "      <td>Heitz</td>\n",
       "    </tr>\n",
       "    <tr>\n",
       "      <td>1</td>\n",
       "      <td>1</td>\n",
       "      <td>Spain</td>\n",
       "      <td>Ripe aromas of fig, blackberry and cassis are ...</td>\n",
       "      <td>Carodorum Selección Especial Reserva</td>\n",
       "      <td>96</td>\n",
       "      <td>110.0</td>\n",
       "      <td>Northern Spain</td>\n",
       "      <td>Toro</td>\n",
       "      <td>NaN</td>\n",
       "      <td>Tinta de Toro</td>\n",
       "      <td>Bodega Carmen Rodríguez</td>\n",
       "    </tr>\n",
       "    <tr>\n",
       "      <td>2</td>\n",
       "      <td>2</td>\n",
       "      <td>US</td>\n",
       "      <td>Mac Watson honors the memory of a wine once ma...</td>\n",
       "      <td>Special Selected Late Harvest</td>\n",
       "      <td>96</td>\n",
       "      <td>90.0</td>\n",
       "      <td>California</td>\n",
       "      <td>Knights Valley</td>\n",
       "      <td>Sonoma</td>\n",
       "      <td>Sauvignon Blanc</td>\n",
       "      <td>Macauley</td>\n",
       "    </tr>\n",
       "    <tr>\n",
       "      <td>3</td>\n",
       "      <td>3</td>\n",
       "      <td>US</td>\n",
       "      <td>This spent 20 months in 30% new French oak, an...</td>\n",
       "      <td>Reserve</td>\n",
       "      <td>96</td>\n",
       "      <td>65.0</td>\n",
       "      <td>Oregon</td>\n",
       "      <td>Willamette Valley</td>\n",
       "      <td>Willamette Valley</td>\n",
       "      <td>Pinot Noir</td>\n",
       "      <td>Ponzi</td>\n",
       "    </tr>\n",
       "    <tr>\n",
       "      <td>4</td>\n",
       "      <td>4</td>\n",
       "      <td>France</td>\n",
       "      <td>This is the top wine from La Bégude, named aft...</td>\n",
       "      <td>La Brûlade</td>\n",
       "      <td>95</td>\n",
       "      <td>66.0</td>\n",
       "      <td>Provence</td>\n",
       "      <td>Bandol</td>\n",
       "      <td>NaN</td>\n",
       "      <td>Provence red blend</td>\n",
       "      <td>Domaine de la Bégude</td>\n",
       "    </tr>\n",
       "  </tbody>\n",
       "</table>\n",
       "</div>"
      ],
      "text/plain": [
       "   Unnamed: 0 country                                        description  \\\n",
       "0           0      US  This tremendous 100% varietal wine hails from ...   \n",
       "1           1   Spain  Ripe aromas of fig, blackberry and cassis are ...   \n",
       "2           2      US  Mac Watson honors the memory of a wine once ma...   \n",
       "3           3      US  This spent 20 months in 30% new French oak, an...   \n",
       "4           4  France  This is the top wine from La Bégude, named aft...   \n",
       "\n",
       "                            designation  points  price        province  \\\n",
       "0                     Martha's Vineyard      96  235.0      California   \n",
       "1  Carodorum Selección Especial Reserva      96  110.0  Northern Spain   \n",
       "2         Special Selected Late Harvest      96   90.0      California   \n",
       "3                               Reserve      96   65.0          Oregon   \n",
       "4                            La Brûlade      95   66.0        Provence   \n",
       "\n",
       "            region_1           region_2             variety  \\\n",
       "0        Napa Valley               Napa  Cabernet Sauvignon   \n",
       "1               Toro                NaN       Tinta de Toro   \n",
       "2     Knights Valley             Sonoma     Sauvignon Blanc   \n",
       "3  Willamette Valley  Willamette Valley          Pinot Noir   \n",
       "4             Bandol                NaN  Provence red blend   \n",
       "\n",
       "                    winery  \n",
       "0                    Heitz  \n",
       "1  Bodega Carmen Rodríguez  \n",
       "2                 Macauley  \n",
       "3                    Ponzi  \n",
       "4     Domaine de la Bégude  "
      ]
     },
     "execution_count": 1,
     "metadata": {},
     "output_type": "execute_result"
    }
   ],
   "source": [
    "import pandas as pd\n",
    "import numpy as np\n",
    "wine_data=pd.read_csv('winemag-data_first150k.csv')\n",
    "# wine_data_test=pd.read_csv('winemag-data-130k-v2.csv')\n",
    "wine_data.head()"
   ]
  },
  {
   "cell_type": "code",
   "execution_count": null,
   "metadata": {},
   "outputs": [],
   "source": []
  },
  {
   "cell_type": "code",
   "execution_count": 2,
   "metadata": {},
   "outputs": [
    {
     "name": "stdout",
     "output_type": "stream",
     "text": [
      "Series([], Name: variety, dtype: object)\n"
     ]
    }
   ],
   "source": [
    " print(wine_data[wine_data[\"variety\"].isnull()]['variety'])\n",
    "# wine_data['country'].unique()"
   ]
  },
  {
   "cell_type": "code",
   "execution_count": 3,
   "metadata": {},
   "outputs": [],
   "source": [
    "\n",
    "# desc_test=vectorizer.transform(wine_data_test.description)\n"
   ]
  },
  {
   "cell_type": "code",
   "execution_count": 4,
   "metadata": {},
   "outputs": [],
   "source": [
    "columns=['country','price','province','region_1','region_2','variety','winery','description']\n",
    "X=wine_data[columns]\n",
    "y=wine_data['points']\n",
    "\n",
    "# X['desc_vec']=desc\n",
    "# X_test=wine_data_test[columns]\n",
    "# y_test=wine_data_test['points']"
   ]
  },
  {
   "cell_type": "code",
   "execution_count": 5,
   "metadata": {},
   "outputs": [
    {
     "name": "stderr",
     "output_type": "stream",
     "text": [
      "C:\\Program Files\\Anaconda\\lib\\site-packages\\ipykernel_launcher.py:3: SettingWithCopyWarning: \n",
      "A value is trying to be set on a copy of a slice from a DataFrame.\n",
      "Try using .loc[row_indexer,col_indexer] = value instead\n",
      "\n",
      "See the caveats in the documentation: http://pandas.pydata.org/pandas-docs/stable/user_guide/indexing.html#returning-a-view-versus-a-copy\n",
      "  This is separate from the ipykernel package so we can avoid doing imports until\n",
      "C:\\Program Files\\Anaconda\\lib\\site-packages\\ipykernel_launcher.py:4: SettingWithCopyWarning: \n",
      "A value is trying to be set on a copy of a slice from a DataFrame.\n",
      "Try using .loc[row_indexer,col_indexer] = value instead\n",
      "\n",
      "See the caveats in the documentation: http://pandas.pydata.org/pandas-docs/stable/user_guide/indexing.html#returning-a-view-versus-a-copy\n",
      "  after removing the cwd from sys.path.\n",
      "C:\\Program Files\\Anaconda\\lib\\site-packages\\ipykernel_launcher.py:5: SettingWithCopyWarning: \n",
      "A value is trying to be set on a copy of a slice from a DataFrame.\n",
      "Try using .loc[row_indexer,col_indexer] = value instead\n",
      "\n",
      "See the caveats in the documentation: http://pandas.pydata.org/pandas-docs/stable/user_guide/indexing.html#returning-a-view-versus-a-copy\n",
      "  \"\"\"\n",
      "C:\\Program Files\\Anaconda\\lib\\site-packages\\ipykernel_launcher.py:6: SettingWithCopyWarning: \n",
      "A value is trying to be set on a copy of a slice from a DataFrame.\n",
      "Try using .loc[row_indexer,col_indexer] = value instead\n",
      "\n",
      "See the caveats in the documentation: http://pandas.pydata.org/pandas-docs/stable/user_guide/indexing.html#returning-a-view-versus-a-copy\n",
      "  \n",
      "C:\\Program Files\\Anaconda\\lib\\site-packages\\ipykernel_launcher.py:7: SettingWithCopyWarning: \n",
      "A value is trying to be set on a copy of a slice from a DataFrame.\n",
      "Try using .loc[row_indexer,col_indexer] = value instead\n",
      "\n",
      "See the caveats in the documentation: http://pandas.pydata.org/pandas-docs/stable/user_guide/indexing.html#returning-a-view-versus-a-copy\n",
      "  import sys\n",
      "C:\\Program Files\\Anaconda\\lib\\site-packages\\ipykernel_launcher.py:8: SettingWithCopyWarning: \n",
      "A value is trying to be set on a copy of a slice from a DataFrame.\n",
      "Try using .loc[row_indexer,col_indexer] = value instead\n",
      "\n",
      "See the caveats in the documentation: http://pandas.pydata.org/pandas-docs/stable/user_guide/indexing.html#returning-a-view-versus-a-copy\n",
      "  \n"
     ]
    }
   ],
   "source": [
    "from sklearn.model_selection import train_test_split\n",
    "X_train, X_test, y_train, y_test = train_test_split(X, y, test_size=0.33, random_state=42)\n",
    "X_train['country']=X_train['country'].fillna('other')\n",
    "X_train['province']=X_train['province'].fillna('other')\n",
    "X_train['region_1']=X_train['region_1'].fillna('other')\n",
    "X_train['region_2']=X_train['region_2'].fillna('none')\n",
    "X_train['variety']=X_train['variety'].fillna('other')\n",
    "X_train['winery']=X_train['winery'].fillna('other')"
   ]
  },
  {
   "cell_type": "code",
   "execution_count": 6,
   "metadata": {},
   "outputs": [
    {
     "name": "stderr",
     "output_type": "stream",
     "text": [
      "C:\\Program Files\\Anaconda\\lib\\site-packages\\pandas\\core\\indexing.py:205: SettingWithCopyWarning: \n",
      "A value is trying to be set on a copy of a slice from a DataFrame\n",
      "\n",
      "See the caveats in the documentation: http://pandas.pydata.org/pandas-docs/stable/user_guide/indexing.html#returning-a-view-versus-a-copy\n",
      "  self._setitem_with_indexer(indexer, value)\n",
      "C:\\Program Files\\Anaconda\\lib\\site-packages\\ipykernel_launcher.py:3: SettingWithCopyWarning: \n",
      "A value is trying to be set on a copy of a slice from a DataFrame\n",
      "\n",
      "See the caveats in the documentation: http://pandas.pydata.org/pandas-docs/stable/user_guide/indexing.html#returning-a-view-versus-a-copy\n",
      "  This is separate from the ipykernel package so we can avoid doing imports until\n",
      "C:\\Program Files\\Anaconda\\lib\\site-packages\\ipykernel_launcher.py:4: SettingWithCopyWarning: \n",
      "A value is trying to be set on a copy of a slice from a DataFrame\n",
      "\n",
      "See the caveats in the documentation: http://pandas.pydata.org/pandas-docs/stable/user_guide/indexing.html#returning-a-view-versus-a-copy\n",
      "  after removing the cwd from sys.path.\n"
     ]
    }
   ],
   "source": [
    "# len(list(X_train['winery'].unique()))\n",
    "# len(list(X_test['winery'].unique()))\n",
    "X_train['winery'].iloc[1]='other'\n",
    "X_train['variety'].iloc[1]='other'"
   ]
  },
  {
   "cell_type": "code",
   "execution_count": 7,
   "metadata": {},
   "outputs": [
    {
     "data": {
      "text/plain": [
       "<101123x27801 sparse matrix of type '<class 'numpy.float64'>'\n",
       "\twith 3457205 stored elements in Compressed Sparse Row format>"
      ]
     },
     "execution_count": 7,
     "metadata": {},
     "output_type": "execute_result"
    }
   ],
   "source": [
    "from sklearn.feature_extraction.text import TfidfVectorizer\n",
    "vectorizer = TfidfVectorizer()\n",
    "\n",
    "desc_train=vectorizer.fit_transform(X_train.description)\n",
    "desc_test=vectorizer.transform(X_test.description)\n",
    "X_train=X_train.drop(columns=['description'])\n",
    "X_test=X_test.drop(columns=['description'])\n",
    "desc_train"
   ]
  },
  {
   "cell_type": "code",
   "execution_count": 8,
   "metadata": {},
   "outputs": [
    {
     "data": {
      "text/html": [
       "<div>\n",
       "<style scoped>\n",
       "    .dataframe tbody tr th:only-of-type {\n",
       "        vertical-align: middle;\n",
       "    }\n",
       "\n",
       "    .dataframe tbody tr th {\n",
       "        vertical-align: top;\n",
       "    }\n",
       "\n",
       "    .dataframe thead th {\n",
       "        text-align: right;\n",
       "    }\n",
       "</style>\n",
       "<table border=\"1\" class=\"dataframe\">\n",
       "  <thead>\n",
       "    <tr style=\"text-align: right;\">\n",
       "      <th></th>\n",
       "      <th>country</th>\n",
       "      <th>price</th>\n",
       "      <th>province</th>\n",
       "      <th>region_1</th>\n",
       "      <th>region_2</th>\n",
       "      <th>variety</th>\n",
       "      <th>winery</th>\n",
       "    </tr>\n",
       "  </thead>\n",
       "  <tbody>\n",
       "    <tr>\n",
       "      <td>34447</td>\n",
       "      <td>Portugal</td>\n",
       "      <td>9.0</td>\n",
       "      <td>Alentejano</td>\n",
       "      <td>other</td>\n",
       "      <td>none</td>\n",
       "      <td>Portuguese Red</td>\n",
       "      <td>DFJ Vinhos</td>\n",
       "    </tr>\n",
       "    <tr>\n",
       "      <td>56389</td>\n",
       "      <td>France</td>\n",
       "      <td>NaN</td>\n",
       "      <td>Bordeaux</td>\n",
       "      <td>Margaux</td>\n",
       "      <td>none</td>\n",
       "      <td>other</td>\n",
       "      <td>other</td>\n",
       "    </tr>\n",
       "    <tr>\n",
       "      <td>137312</td>\n",
       "      <td>Austria</td>\n",
       "      <td>36.0</td>\n",
       "      <td>Kamptal</td>\n",
       "      <td>other</td>\n",
       "      <td>none</td>\n",
       "      <td>Riesling</td>\n",
       "      <td>Bründlmayer</td>\n",
       "    </tr>\n",
       "    <tr>\n",
       "      <td>83594</td>\n",
       "      <td>US</td>\n",
       "      <td>85.0</td>\n",
       "      <td>California</td>\n",
       "      <td>Napa Valley</td>\n",
       "      <td>Napa</td>\n",
       "      <td>Cabernet Sauvignon</td>\n",
       "      <td>Bello Family Vineyards</td>\n",
       "    </tr>\n",
       "    <tr>\n",
       "      <td>30400</td>\n",
       "      <td>Australia</td>\n",
       "      <td>25.0</td>\n",
       "      <td>South Australia</td>\n",
       "      <td>Barossa</td>\n",
       "      <td>none</td>\n",
       "      <td>Shiraz</td>\n",
       "      <td>Wolf Blass</td>\n",
       "    </tr>\n",
       "    <tr>\n",
       "      <td>...</td>\n",
       "      <td>...</td>\n",
       "      <td>...</td>\n",
       "      <td>...</td>\n",
       "      <td>...</td>\n",
       "      <td>...</td>\n",
       "      <td>...</td>\n",
       "      <td>...</td>\n",
       "    </tr>\n",
       "    <tr>\n",
       "      <td>119879</td>\n",
       "      <td>US</td>\n",
       "      <td>25.0</td>\n",
       "      <td>California</td>\n",
       "      <td>Santa Barbara County</td>\n",
       "      <td>Central Coast</td>\n",
       "      <td>Pinot Noir</td>\n",
       "      <td>Labyrinth</td>\n",
       "    </tr>\n",
       "    <tr>\n",
       "      <td>103694</td>\n",
       "      <td>France</td>\n",
       "      <td>12.0</td>\n",
       "      <td>Southwest France</td>\n",
       "      <td>Fronton</td>\n",
       "      <td>none</td>\n",
       "      <td>Rosé</td>\n",
       "      <td>Château Bellevue la Forêt</td>\n",
       "    </tr>\n",
       "    <tr>\n",
       "      <td>131932</td>\n",
       "      <td>US</td>\n",
       "      <td>40.0</td>\n",
       "      <td>California</td>\n",
       "      <td>Paso Robles</td>\n",
       "      <td>Central Coast</td>\n",
       "      <td>Rhône-style White Blend</td>\n",
       "      <td>Tablas Creek</td>\n",
       "    </tr>\n",
       "    <tr>\n",
       "      <td>146867</td>\n",
       "      <td>Germany</td>\n",
       "      <td>26.0</td>\n",
       "      <td>Mosel-Saar-Ruwer</td>\n",
       "      <td>other</td>\n",
       "      <td>none</td>\n",
       "      <td>Riesling</td>\n",
       "      <td>Dr. H. Thanisch (Erben Müller-Burggraef)</td>\n",
       "    </tr>\n",
       "    <tr>\n",
       "      <td>121958</td>\n",
       "      <td>France</td>\n",
       "      <td>25.0</td>\n",
       "      <td>Alsace</td>\n",
       "      <td>Crémant d'Alsace</td>\n",
       "      <td>none</td>\n",
       "      <td>Sparkling Blend</td>\n",
       "      <td>René Muré</td>\n",
       "    </tr>\n",
       "  </tbody>\n",
       "</table>\n",
       "<p>101123 rows × 7 columns</p>\n",
       "</div>"
      ],
      "text/plain": [
       "          country  price          province              region_1  \\\n",
       "34447    Portugal    9.0        Alentejano                 other   \n",
       "56389      France    NaN          Bordeaux               Margaux   \n",
       "137312    Austria   36.0           Kamptal                 other   \n",
       "83594          US   85.0        California           Napa Valley   \n",
       "30400   Australia   25.0   South Australia               Barossa   \n",
       "...           ...    ...               ...                   ...   \n",
       "119879         US   25.0        California  Santa Barbara County   \n",
       "103694     France   12.0  Southwest France               Fronton   \n",
       "131932         US   40.0        California           Paso Robles   \n",
       "146867    Germany   26.0  Mosel-Saar-Ruwer                 other   \n",
       "121958     France   25.0            Alsace      Crémant d'Alsace   \n",
       "\n",
       "             region_2                  variety  \\\n",
       "34447            none           Portuguese Red   \n",
       "56389            none                    other   \n",
       "137312           none                 Riesling   \n",
       "83594            Napa       Cabernet Sauvignon   \n",
       "30400            none                   Shiraz   \n",
       "...               ...                      ...   \n",
       "119879  Central Coast               Pinot Noir   \n",
       "103694           none                     Rosé   \n",
       "131932  Central Coast  Rhône-style White Blend   \n",
       "146867           none                 Riesling   \n",
       "121958           none          Sparkling Blend   \n",
       "\n",
       "                                          winery  \n",
       "34447                                 DFJ Vinhos  \n",
       "56389                                      other  \n",
       "137312                               Bründlmayer  \n",
       "83594                     Bello Family Vineyards  \n",
       "30400                                 Wolf Blass  \n",
       "...                                          ...  \n",
       "119879                                 Labyrinth  \n",
       "103694                 Château Bellevue la Forêt  \n",
       "131932                              Tablas Creek  \n",
       "146867  Dr. H. Thanisch (Erben Müller-Burggraef)  \n",
       "121958                                 René Muré  \n",
       "\n",
       "[101123 rows x 7 columns]"
      ]
     },
     "execution_count": 8,
     "metadata": {},
     "output_type": "execute_result"
    }
   ],
   "source": [
    "# desc_train=X_train['desc_vec']\n",
    "# desc_test=X_test['desc_vec']\n",
    "# X_train=X_train.drop(columns=['desc_vec'])\n",
    "# X_test=X_test.drop(columns=['desc_vec'])\n",
    "X_train"
   ]
  },
  {
   "cell_type": "code",
   "execution_count": 9,
   "metadata": {},
   "outputs": [],
   "source": [
    "\n",
    "# object_cols.pop(1)"
   ]
  },
  {
   "cell_type": "code",
   "execution_count": null,
   "metadata": {},
   "outputs": [],
   "source": []
  },
  {
   "cell_type": "code",
   "execution_count": 10,
   "metadata": {},
   "outputs": [],
   "source": [
    "# from sklearn.impute import SimpleImputer\n",
    "# imp = SimpleImputer(strategy=\"most_frequent\")\n",
    "# imp.fit_transform(X_train[['country','region_1']])\n",
    "# from sklearn_pandas import CategoricalImputer\n",
    "# imputer = CategoricalImputer()\n",
    "# X_train[object_cols]=imputer.fit_transform(X_train[object_cols])\n",
    "# X_test[object_cols]=imputer.transform(X_test[object_cols])\n",
    "\n",
    "# df_with_dummies = pd.get_dummies(X_train, columns = object_cols )\n",
    "# df_with_dummies"
   ]
  },
  {
   "cell_type": "code",
   "execution_count": 11,
   "metadata": {},
   "outputs": [],
   "source": [
    "\n",
    "# print(X_test_new[X_test_new[\"variety\"].isnull()]['region_2'])\n",
    "# print(X_train[\"region_1\"].iloc[25])\n",
    "# print(np.nan)\n",
    "\n"
   ]
  },
  {
   "cell_type": "code",
   "execution_count": null,
   "metadata": {},
   "outputs": [],
   "source": []
  },
  {
   "cell_type": "code",
   "execution_count": 12,
   "metadata": {},
   "outputs": [],
   "source": [
    "country=(X_train['country'].unique())\n",
    "province=list(X_train['province'].unique())\n",
    "region_1=list(X_train['region_1'].unique())\n",
    "region_2=list(X_train['region_2'].unique())\n",
    "variety=list(X_train['variety'].unique())\n",
    "winery=list(X_train['winery'].unique())\n",
    "# X_train_new=X_train.copy()\n",
    "# X_test_new=X_test.copy()\n",
    "def addother(val,lst):\n",
    "    if val not in lst:\n",
    "        return 'other'\n",
    "    else:\n",
    "        return val\n",
    "def addnone(val,lst):\n",
    "    if val not in lst:\n",
    "        return 'none'\n",
    "    else:\n",
    "        return val\n",
    "    "
   ]
  },
  {
   "cell_type": "code",
   "execution_count": 13,
   "metadata": {},
   "outputs": [],
   "source": [
    "X_test['country']=X_test['country'].apply(addother,args=([country]))\n",
    "X_test['province']=X_test['province'].apply(addother,args=([province]))\n",
    "X_test['region_1']=X_test['region_1'].apply(addother,args=([region_1]))\n",
    "X_test['region_2']=X_test['region_2'].apply(addnone,args=([region_2]))\n",
    "X_test['variety']=X_test['variety'].apply(addother,args=([variety]))\n",
    "X_test['winery']=X_test['winery'].apply(addother,args=([country]))"
   ]
  },
  {
   "cell_type": "code",
   "execution_count": 14,
   "metadata": {},
   "outputs": [],
   "source": [
    "# list(X_test['variety'].unique()).index('other')\n",
    "# list(X_train['variety'].unique()).index('other')\n",
    "# X_train['country']"
   ]
  },
  {
   "cell_type": "code",
   "execution_count": 15,
   "metadata": {},
   "outputs": [
    {
     "data": {
      "text/plain": [
       "['country', 'province', 'region_1', 'region_2', 'variety', 'winery']"
      ]
     },
     "execution_count": 15,
     "metadata": {},
     "output_type": "execute_result"
    }
   ],
   "source": [
    "s = (X_train.dtypes == 'object')\n",
    "object_cols = list(s[s].index)\n",
    "object_cols"
   ]
  },
  {
   "cell_type": "code",
   "execution_count": 16,
   "metadata": {},
   "outputs": [],
   "source": [
    "from sklearn.impute import SimpleImputer\n",
    "imp = SimpleImputer( strategy='mean')\n",
    "X_train['price']=imp.fit_transform(X_train[['price']])\n",
    "X_test['price']=imp.transform(X_test[['price']])"
   ]
  },
  {
   "cell_type": "code",
   "execution_count": 17,
   "metadata": {},
   "outputs": [
    {
     "name": "stdout",
     "output_type": "stream",
     "text": [
      "country\n",
      "province\n",
      "region_1\n",
      "region_2\n",
      "variety\n",
      "winery\n"
     ]
    },
    {
     "data": {
      "text/html": [
       "<div>\n",
       "<style scoped>\n",
       "    .dataframe tbody tr th:only-of-type {\n",
       "        vertical-align: middle;\n",
       "    }\n",
       "\n",
       "    .dataframe tbody tr th {\n",
       "        vertical-align: top;\n",
       "    }\n",
       "\n",
       "    .dataframe thead th {\n",
       "        text-align: right;\n",
       "    }\n",
       "</style>\n",
       "<table border=\"1\" class=\"dataframe\">\n",
       "  <thead>\n",
       "    <tr style=\"text-align: right;\">\n",
       "      <th></th>\n",
       "      <th>country</th>\n",
       "      <th>price</th>\n",
       "      <th>province</th>\n",
       "      <th>region_1</th>\n",
       "      <th>region_2</th>\n",
       "      <th>variety</th>\n",
       "      <th>winery</th>\n",
       "    </tr>\n",
       "  </thead>\n",
       "  <tbody>\n",
       "    <tr>\n",
       "      <td>34447</td>\n",
       "      <td>32</td>\n",
       "      <td>9.000000</td>\n",
       "      <td>6</td>\n",
       "      <td>1180</td>\n",
       "      <td>18</td>\n",
       "      <td>382</td>\n",
       "      <td>4175</td>\n",
       "    </tr>\n",
       "    <tr>\n",
       "      <td>56389</td>\n",
       "      <td>15</td>\n",
       "      <td>33.172308</td>\n",
       "      <td>35</td>\n",
       "      <td>582</td>\n",
       "      <td>18</td>\n",
       "      <td>593</td>\n",
       "      <td>13449</td>\n",
       "    </tr>\n",
       "    <tr>\n",
       "      <td>137312</td>\n",
       "      <td>3</td>\n",
       "      <td>36.000000</td>\n",
       "      <td>163</td>\n",
       "      <td>1180</td>\n",
       "      <td>18</td>\n",
       "      <td>405</td>\n",
       "      <td>1498</td>\n",
       "    </tr>\n",
       "    <tr>\n",
       "      <td>83594</td>\n",
       "      <td>43</td>\n",
       "      <td>85.000000</td>\n",
       "      <td>50</td>\n",
       "      <td>708</td>\n",
       "      <td>7</td>\n",
       "      <td>68</td>\n",
       "      <td>902</td>\n",
       "    </tr>\n",
       "    <tr>\n",
       "      <td>30400</td>\n",
       "      <td>2</td>\n",
       "      <td>25.000000</td>\n",
       "      <td>340</td>\n",
       "      <td>77</td>\n",
       "      <td>18</td>\n",
       "      <td>454</td>\n",
       "      <td>13275</td>\n",
       "    </tr>\n",
       "    <tr>\n",
       "      <td>...</td>\n",
       "      <td>...</td>\n",
       "      <td>...</td>\n",
       "      <td>...</td>\n",
       "      <td>...</td>\n",
       "      <td>...</td>\n",
       "      <td>...</td>\n",
       "      <td>...</td>\n",
       "    </tr>\n",
       "    <tr>\n",
       "      <td>119879</td>\n",
       "      <td>43</td>\n",
       "      <td>25.000000</td>\n",
       "      <td>50</td>\n",
       "      <td>926</td>\n",
       "      <td>1</td>\n",
       "      <td>375</td>\n",
       "      <td>7595</td>\n",
       "    </tr>\n",
       "    <tr>\n",
       "      <td>103694</td>\n",
       "      <td>15</td>\n",
       "      <td>12.000000</td>\n",
       "      <td>344</td>\n",
       "      <td>439</td>\n",
       "      <td>18</td>\n",
       "      <td>415</td>\n",
       "      <td>2513</td>\n",
       "    </tr>\n",
       "    <tr>\n",
       "      <td>131932</td>\n",
       "      <td>43</td>\n",
       "      <td>40.000000</td>\n",
       "      <td>50</td>\n",
       "      <td>760</td>\n",
       "      <td>1</td>\n",
       "      <td>402</td>\n",
       "      <td>11691</td>\n",
       "    </tr>\n",
       "    <tr>\n",
       "      <td>146867</td>\n",
       "      <td>17</td>\n",
       "      <td>26.000000</td>\n",
       "      <td>228</td>\n",
       "      <td>1180</td>\n",
       "      <td>18</td>\n",
       "      <td>405</td>\n",
       "      <td>5090</td>\n",
       "    </tr>\n",
       "    <tr>\n",
       "      <td>121958</td>\n",
       "      <td>15</td>\n",
       "      <td>25.000000</td>\n",
       "      <td>10</td>\n",
       "      <td>323</td>\n",
       "      <td>18</td>\n",
       "      <td>469</td>\n",
       "      <td>10475</td>\n",
       "    </tr>\n",
       "  </tbody>\n",
       "</table>\n",
       "<p>101123 rows × 7 columns</p>\n",
       "</div>"
      ],
      "text/plain": [
       "        country      price  province  region_1  region_2  variety  winery\n",
       "34447        32   9.000000         6      1180        18      382    4175\n",
       "56389        15  33.172308        35       582        18      593   13449\n",
       "137312        3  36.000000       163      1180        18      405    1498\n",
       "83594        43  85.000000        50       708         7       68     902\n",
       "30400         2  25.000000       340        77        18      454   13275\n",
       "...         ...        ...       ...       ...       ...      ...     ...\n",
       "119879       43  25.000000        50       926         1      375    7595\n",
       "103694       15  12.000000       344       439        18      415    2513\n",
       "131932       43  40.000000        50       760         1      402   11691\n",
       "146867       17  26.000000       228      1180        18      405    5090\n",
       "121958       15  25.000000        10       323        18      469   10475\n",
       "\n",
       "[101123 rows x 7 columns]"
      ]
     },
     "execution_count": 17,
     "metadata": {},
     "output_type": "execute_result"
    }
   ],
   "source": [
    "from sklearn import preprocessing\n",
    "le = preprocessing.LabelEncoder()\n",
    "X_train_new=X_train.copy()\n",
    "X_test_new=X_test.copy()\n",
    "for col in object_cols:\n",
    "    print(col)\n",
    "    X_train_new[col]=le.fit_transform(X_train_new[col].astype(str))\n",
    "    X_test_new[col]=le.transform(X_test_new[col].astype(str))\n",
    "X_train_new \n",
    "\n",
    "# from sklearn.preprocessing import OneHotEncoder\n",
    "\n",
    "# OH_encoder=OneHotEncoder(handle_unknown='ignore',sparse=False)\n",
    "# oh_cols_train=pd.DataFrame(OH_encoder.fit_transform(X_train[object_cols]))\n",
    "# oh_cols_val=pd.DataFrame(OH_encoder.transform(X_test[object_cols]))\n",
    "\n",
    "# oh_cols_train.index=X_train.index\n",
    "# oh_cols_val.index=X_test.index\n",
    "\n",
    "# temp_X_train=X_train.drop(object_cols,axis=1)\n",
    "# temp_X_test=X_test.drop(object_cols,axis=1)\n",
    "\n",
    "# X_train_new=pd.concat([temp_X_train,oh_cols_train],axis=1)\n",
    "# X_test_new=pd.concat([temp_X_test,oh_cols_val],axis=1)"
   ]
  },
  {
   "cell_type": "code",
   "execution_count": 57,
   "metadata": {},
   "outputs": [],
   "source": [
    "from sklearn.preprocessing import StandardScaler\n",
    "scaler=StandardScaler()\n",
    "# X_train_new=scaler.fit_transform(X_train)\n",
    "# X_test_new=scaler.transform(X_test)\n",
    "X_train_new=scaler.fit_transform(X_train_new)\n",
    "X_test_new=scaler.transform(X_test_new)"
   ]
  },
  {
   "cell_type": "code",
   "execution_count": 59,
   "metadata": {},
   "outputs": [],
   "source": [
    "from scipy.sparse import csr_matrix\n",
    "X_train_sparse=csr_matrix(X_train_new)\n",
    "X_test_sparse=csr_matrix(X_test_new)"
   ]
  },
  {
   "cell_type": "code",
   "execution_count": 19,
   "metadata": {},
   "outputs": [
    {
     "name": "stdout",
     "output_type": "stream",
     "text": [
      "Series([], Name: price, dtype: float64)\n"
     ]
    }
   ],
   "source": [
    "# X_train_sparse[0].toarray()\n",
    "# desc[0].toarray().shape\n",
    "# X_train_new['desc']=desc\n",
    "\n",
    "print(X_test_new[X_test_new[\"price\"].isnull()]['price'])"
   ]
  },
  {
   "cell_type": "code",
   "execution_count": 60,
   "metadata": {},
   "outputs": [
    {
     "data": {
      "text/plain": [
       "<101123x27808 sparse matrix of type '<class 'numpy.float64'>'\n",
       "\twith 4155854 stored elements in COOrdinate format>"
      ]
     },
     "execution_count": 60,
     "metadata": {},
     "output_type": "execute_result"
    }
   ],
   "source": [
    "from scipy.sparse import coo_matrix, hstack\n",
    "X_train_sparse=hstack([X_train_sparse,desc_train])\n",
    "X_test_sparse=hstack([X_test_sparse,desc_test])\n",
    "X_train_sparse"
   ]
  },
  {
   "cell_type": "code",
   "execution_count": 38,
   "metadata": {},
   "outputs": [],
   "source": [
    "# from sklearn.preprocessing import Normalize\n",
    "# norm=Normalizer()\n",
    "# X_train_sparse_new=norm.fit_transform(X_train_sparse)\n",
    "# X_test_sparse_new=norm.transform(X_test_sparse)\n",
    "# from sklearn.preprocessing import StandardScaler\n",
    "# scaler=StandardScaler(with_mean=False)\n",
    "# # X_train_new=scaler.fit_transform(X_train)\n",
    "# # X_test_new=scaler.transform(X_test)\n",
    "# X_train_sparse_new=scaler.fit_transform(X_train_sparse)\n",
    "# X_test_sparse_new=scaler.transform(X_test_sparse)"
   ]
  },
  {
   "cell_type": "code",
   "execution_count": 71,
   "metadata": {},
   "outputs": [
    {
     "data": {
      "text/plain": [
       "RidgeCV(alphas=array([0.1 , 0.2 , 0.01]), cv=5, fit_intercept=True,\n",
       "        gcv_mode=None, normalize=False, scoring=None, store_cv_values=False)"
      ]
     },
     "execution_count": 71,
     "metadata": {},
     "output_type": "execute_result"
    }
   ],
   "source": [
    "from sklearn.linear_model import RidgeCV\n",
    "Rreg=RidgeCV(alphas=[0.1,0.2,0.01],cv=5,normalize=False)\n",
    "Rreg.fit(X_train_sparse,y_train)"
   ]
  },
  {
   "cell_type": "code",
   "execution_count": 72,
   "metadata": {},
   "outputs": [
    {
     "name": "stdout",
     "output_type": "stream",
     "text": [
      "1.2114134882139473\n",
      "2.4222302727919227\n",
      "1.5563515903522323\n",
      "0.767437801161925\n",
      "0.8311750773042104\n"
     ]
    },
    {
     "data": {
      "text/plain": [
       "0.2"
      ]
     },
     "execution_count": 72,
     "metadata": {},
     "output_type": "execute_result"
    }
   ],
   "source": [
    "from sklearn import metrics\n",
    "from sklearn.metrics import r2_score\n",
    "\n",
    "# lreg.score(scaler.transform(X_test_new),y_test)\n",
    "# print(lreg.score(X_test_new,y_test))\n",
    "# lreg.predict(X_test_new)\n",
    "y_pred=Rreg.predict(X_test_sparse)\n",
    "y_pred_train=Rreg.predict(X_train_sparse)\n",
    "\n",
    "print(metrics.mean_absolute_error(y_test,y_pred))\n",
    "print(metrics.mean_squared_error(y_test,y_pred))\n",
    "print(np.sqrt(metrics.mean_squared_error(y_test,y_pred)))\n",
    "print(r2_score(y_test,y_pred))\n",
    "print(r2_score(y_train,y_pred_train))\n",
    "Rreg.alpha_"
   ]
  },
  {
   "cell_type": "code",
   "execution_count": 70,
   "metadata": {},
   "outputs": [
    {
     "data": {
      "text/plain": [
       "LinearSVR(C=1, dual=True, epsilon=0.0, fit_intercept=True,\n",
       "          intercept_scaling=1.0, loss='epsilon_insensitive', max_iter=1000,\n",
       "          random_state=None, tol=0.0001, verbose=0)"
      ]
     },
     "execution_count": 70,
     "metadata": {},
     "output_type": "execute_result"
    }
   ],
   "source": [
    "# from sklearn import svm\n",
    "# svr=svm.SVR()\n",
    "# svr.fit(X_train_sparse,y_train)\n",
    "from sklearn.svm import LinearSVR\n",
    "svr= LinearSVR(C=1,max_iter=1000)\n",
    "svr.fit(X_train_sparse,y_train)"
   ]
  },
  {
   "cell_type": "code",
   "execution_count": 68,
   "metadata": {},
   "outputs": [
    {
     "name": "stdout",
     "output_type": "stream",
     "text": [
      "1.23975776930911\n",
      "2.696104473185044\n",
      "1.641981873586016\n",
      "0.7411427015737962\n",
      "0.7646003257382761\n"
     ]
    }
   ],
   "source": [
    "y_pred_svr=svr.predict(X_test_sparse)\n",
    "y_pred_train_svr=svr.predict(X_train_sparse)\n",
    "print(metrics.mean_absolute_error(y_test,y_pred_svr))\n",
    "print(metrics.mean_squared_error(y_test,y_pred_svr))\n",
    "print(np.sqrt(metrics.mean_squared_error(y_test,y_pred_svr)))\n",
    "print(r2_score(y_test,y_pred_svr))\n",
    "print(r2_score(y_train,y_pred_train_svr))"
   ]
  },
  {
   "cell_type": "code",
   "execution_count": 74,
   "metadata": {},
   "outputs": [
    {
     "data": {
      "text/plain": [
       "GridSearchCV(cv=5, error_score=nan,\n",
       "             estimator=LinearSVR(C=1.0, dual=True, epsilon=0.0,\n",
       "                                 fit_intercept=True, intercept_scaling=1.0,\n",
       "                                 loss='epsilon_insensitive', max_iter=1000,\n",
       "                                 random_state=None, tol=0.0001, verbose=0),\n",
       "             iid='deprecated', n_jobs=None, param_grid={'C': (0.5, 1, 1.5, 2)},\n",
       "             pre_dispatch='2*n_jobs', refit=True, return_train_score=False,\n",
       "             scoring=None, verbose=0)"
      ]
     },
     "execution_count": 74,
     "metadata": {},
     "output_type": "execute_result"
    }
   ],
   "source": [
    "from sklearn.model_selection import GridSearchCV\n",
    "parameters={'C':(0.5,1,1.5,2)}\n",
    "reg=LinearSVR()\n",
    "svr_reg=GridSearchCV(reg,parameters,cv=5)\n",
    "svr_reg.fit(X_train_sparse,y_train)"
   ]
  },
  {
   "cell_type": "code",
   "execution_count": 75,
   "metadata": {},
   "outputs": [
    {
     "name": "stdout",
     "output_type": "stream",
     "text": [
      "1.214109765388\n",
      "2.623700109709464\n",
      "1.6197839700742394\n",
      "0.7480943602020007\n",
      "0.7843096693255432\n"
     ]
    }
   ],
   "source": [
    "\n",
    "y_pred_svr_reg=svr_reg.predict(X_test_sparse)\n",
    "y_pred_train_svr_reg=svr_reg.predict(X_train_sparse)\n",
    "print(metrics.mean_absolute_error(y_test,y_pred_svr_reg))\n",
    "print(metrics.mean_squared_error(y_test,y_pred_svr_reg))\n",
    "print(np.sqrt(metrics.mean_squared_error(y_test,y_pred_svr_reg)))\n",
    "print(r2_score(y_test,y_pred_svr_reg))\n",
    "print(r2_score(y_train,y_pred_train_svr_reg))"
   ]
  },
  {
   "cell_type": "code",
   "execution_count": null,
   "metadata": {},
   "outputs": [],
   "source": []
  }
 ],
 "metadata": {
  "kernelspec": {
   "display_name": "Python 3",
   "language": "python",
   "name": "python3"
  },
  "language_info": {
   "codemirror_mode": {
    "name": "ipython",
    "version": 3
   },
   "file_extension": ".py",
   "mimetype": "text/x-python",
   "name": "python",
   "nbconvert_exporter": "python",
   "pygments_lexer": "ipython3",
   "version": "3.7.4"
  }
 },
 "nbformat": 4,
 "nbformat_minor": 2
}
